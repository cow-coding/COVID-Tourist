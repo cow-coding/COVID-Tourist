{
 "cells": [
  {
   "cell_type": "markdown",
   "id": "27ccf543",
   "metadata": {},
   "source": [
    "# Library Import"
   ]
  },
  {
   "cell_type": "code",
   "execution_count": 82,
   "id": "a0d39a88",
   "metadata": {
    "ExecuteTime": {
     "end_time": "2021-11-23T10:56:46.144370Z",
     "start_time": "2021-11-23T10:56:46.140576Z"
    }
   },
   "outputs": [],
   "source": [
    "import pandas as pd\n",
    "import numpy as np\n",
    "\n",
    "import matplotlib.pyplot as plt\n",
    "import seaborn as sns\n",
    "from matplotlib import rc\n",
    "\n",
    "import warnings"
   ]
  },
  {
   "cell_type": "code",
   "execution_count": 83,
   "id": "3c47b7e2",
   "metadata": {
    "ExecuteTime": {
     "end_time": "2021-11-23T10:56:46.152193Z",
     "start_time": "2021-11-23T10:56:46.148135Z"
    }
   },
   "outputs": [],
   "source": [
    "warnings.filterwarnings(\"ignore\")\n",
    "rc('font', family='AppleGothic')\n",
    "\n",
    "plt.rcParams['axes.unicode_minus'] = False"
   ]
  },
  {
   "cell_type": "markdown",
   "id": "d135b99b",
   "metadata": {},
   "source": [
    "# 데이터 로드"
   ]
  },
  {
   "cell_type": "code",
   "execution_count": 84,
   "id": "c1774cc4",
   "metadata": {
    "ExecuteTime": {
     "end_time": "2021-11-23T10:56:46.185147Z",
     "start_time": "2021-11-23T10:56:46.155425Z"
    }
   },
   "outputs": [
    {
     "data": {
      "text/html": [
       "<div>\n",
       "<style scoped>\n",
       "    .dataframe tbody tr th:only-of-type {\n",
       "        vertical-align: middle;\n",
       "    }\n",
       "\n",
       "    .dataframe tbody tr th {\n",
       "        vertical-align: top;\n",
       "    }\n",
       "\n",
       "    .dataframe thead th {\n",
       "        text-align: right;\n",
       "    }\n",
       "</style>\n",
       "<table border=\"1\" class=\"dataframe\">\n",
       "  <thead>\n",
       "    <tr style=\"text-align: right;\">\n",
       "      <th></th>\n",
       "      <th>날짜</th>\n",
       "      <th>지역</th>\n",
       "      <th>FESTIVAL</th>\n",
       "      <th>관광객</th>\n",
       "      <th>기온(°C)</th>\n",
       "      <th>습도(%)</th>\n",
       "      <th>강수량(mm)</th>\n",
       "      <th>코로나인원</th>\n",
       "      <th>holliday</th>\n",
       "      <th>코로나_차분(1)</th>\n",
       "      <th>누적확진(명)</th>\n",
       "      <th>신규확진(명)</th>\n",
       "      <th>shift(1)</th>\n",
       "      <th>shift(2)</th>\n",
       "      <th>shift(3)</th>\n",
       "      <th>shift(4)</th>\n",
       "      <th>shift(5)</th>\n",
       "    </tr>\n",
       "  </thead>\n",
       "  <tbody>\n",
       "    <tr>\n",
       "      <th>0</th>\n",
       "      <td>2019-03-01</td>\n",
       "      <td>강릉시</td>\n",
       "      <td>0.0</td>\n",
       "      <td>179826.0</td>\n",
       "      <td>11.914286</td>\n",
       "      <td>27.571429</td>\n",
       "      <td>0.0</td>\n",
       "      <td>0.0</td>\n",
       "      <td>1.0</td>\n",
       "      <td>0.0</td>\n",
       "      <td>0.0</td>\n",
       "      <td>0.0</td>\n",
       "      <td>0.0</td>\n",
       "      <td>0.0</td>\n",
       "      <td>0.0</td>\n",
       "      <td>0.0</td>\n",
       "      <td>0.0</td>\n",
       "    </tr>\n",
       "    <tr>\n",
       "      <th>1</th>\n",
       "      <td>2019-03-02</td>\n",
       "      <td>강릉시</td>\n",
       "      <td>0.0</td>\n",
       "      <td>195600.0</td>\n",
       "      <td>12.971429</td>\n",
       "      <td>32.000000</td>\n",
       "      <td>0.0</td>\n",
       "      <td>0.0</td>\n",
       "      <td>1.0</td>\n",
       "      <td>0.0</td>\n",
       "      <td>0.0</td>\n",
       "      <td>0.0</td>\n",
       "      <td>0.0</td>\n",
       "      <td>0.0</td>\n",
       "      <td>0.0</td>\n",
       "      <td>0.0</td>\n",
       "      <td>0.0</td>\n",
       "    </tr>\n",
       "    <tr>\n",
       "      <th>2</th>\n",
       "      <td>2019-03-03</td>\n",
       "      <td>강릉시</td>\n",
       "      <td>0.0</td>\n",
       "      <td>122036.0</td>\n",
       "      <td>13.571429</td>\n",
       "      <td>34.428571</td>\n",
       "      <td>0.0</td>\n",
       "      <td>0.0</td>\n",
       "      <td>1.0</td>\n",
       "      <td>0.0</td>\n",
       "      <td>0.0</td>\n",
       "      <td>0.0</td>\n",
       "      <td>0.0</td>\n",
       "      <td>0.0</td>\n",
       "      <td>0.0</td>\n",
       "      <td>0.0</td>\n",
       "      <td>0.0</td>\n",
       "    </tr>\n",
       "    <tr>\n",
       "      <th>3</th>\n",
       "      <td>2019-03-04</td>\n",
       "      <td>강릉시</td>\n",
       "      <td>0.0</td>\n",
       "      <td>63598.0</td>\n",
       "      <td>12.914286</td>\n",
       "      <td>49.714286</td>\n",
       "      <td>0.0</td>\n",
       "      <td>0.0</td>\n",
       "      <td>0.0</td>\n",
       "      <td>0.0</td>\n",
       "      <td>0.0</td>\n",
       "      <td>0.0</td>\n",
       "      <td>0.0</td>\n",
       "      <td>0.0</td>\n",
       "      <td>0.0</td>\n",
       "      <td>0.0</td>\n",
       "      <td>0.0</td>\n",
       "    </tr>\n",
       "    <tr>\n",
       "      <th>4</th>\n",
       "      <td>2019-03-05</td>\n",
       "      <td>강릉시</td>\n",
       "      <td>0.0</td>\n",
       "      <td>62444.0</td>\n",
       "      <td>14.842857</td>\n",
       "      <td>33.571429</td>\n",
       "      <td>0.0</td>\n",
       "      <td>0.0</td>\n",
       "      <td>0.0</td>\n",
       "      <td>0.0</td>\n",
       "      <td>0.0</td>\n",
       "      <td>0.0</td>\n",
       "      <td>0.0</td>\n",
       "      <td>0.0</td>\n",
       "      <td>0.0</td>\n",
       "      <td>0.0</td>\n",
       "      <td>0.0</td>\n",
       "    </tr>\n",
       "  </tbody>\n",
       "</table>\n",
       "</div>"
      ],
      "text/plain": [
       "           날짜   지역  FESTIVAL       관광객     기온(°C)      습도(%)  강수량(mm)  코로나인원  \\\n",
       "0  2019-03-01  강릉시       0.0  179826.0  11.914286  27.571429      0.0    0.0   \n",
       "1  2019-03-02  강릉시       0.0  195600.0  12.971429  32.000000      0.0    0.0   \n",
       "2  2019-03-03  강릉시       0.0  122036.0  13.571429  34.428571      0.0    0.0   \n",
       "3  2019-03-04  강릉시       0.0   63598.0  12.914286  49.714286      0.0    0.0   \n",
       "4  2019-03-05  강릉시       0.0   62444.0  14.842857  33.571429      0.0    0.0   \n",
       "\n",
       "   holliday  코로나_차분(1)  누적확진(명)  신규확진(명)  shift(1)  shift(2)  shift(3)  \\\n",
       "0       1.0        0.0      0.0      0.0       0.0       0.0       0.0   \n",
       "1       1.0        0.0      0.0      0.0       0.0       0.0       0.0   \n",
       "2       1.0        0.0      0.0      0.0       0.0       0.0       0.0   \n",
       "3       0.0        0.0      0.0      0.0       0.0       0.0       0.0   \n",
       "4       0.0        0.0      0.0      0.0       0.0       0.0       0.0   \n",
       "\n",
       "   shift(4)  shift(5)  \n",
       "0       0.0       0.0  \n",
       "1       0.0       0.0  \n",
       "2       0.0       0.0  \n",
       "3       0.0       0.0  \n",
       "4       0.0       0.0  "
      ]
     },
     "execution_count": 84,
     "metadata": {},
     "output_type": "execute_result"
    }
   ],
   "source": [
    "gr = pd.read_csv('./전처리최종파일/gr_shift.csv').drop('Unnamed: 0', axis=1)\n",
    "gr.head()"
   ]
  },
  {
   "cell_type": "markdown",
   "id": "efeb3f8e",
   "metadata": {},
   "source": [
    "# Modelling"
   ]
  },
  {
   "cell_type": "code",
   "execution_count": 85,
   "id": "a47f4d7e",
   "metadata": {
    "ExecuteTime": {
     "end_time": "2021-11-23T10:56:46.190264Z",
     "start_time": "2021-11-23T10:56:46.187598Z"
    }
   },
   "outputs": [],
   "source": [
    "from sklearn.model_selection import train_test_split\n",
    "from sklearn.metrics import mean_squared_error, mean_absolute_error"
   ]
  },
  {
   "cell_type": "code",
   "execution_count": 86,
   "id": "0dc939a2",
   "metadata": {
    "ExecuteTime": {
     "end_time": "2021-11-23T10:56:46.195036Z",
     "start_time": "2021-11-23T10:56:46.192335Z"
    }
   },
   "outputs": [],
   "source": [
    "# params\n",
    "splits = -5\n",
    "lr = 0.05\n",
    "n_estimator = 100\n",
    "gamma = 0.05"
   ]
  },
  {
   "cell_type": "markdown",
   "id": "f26b26db",
   "metadata": {},
   "source": [
    "## Data Split"
   ]
  },
  {
   "cell_type": "code",
   "execution_count": 87,
   "id": "ad9cff0d",
   "metadata": {
    "ExecuteTime": {
     "end_time": "2021-11-23T10:56:46.204647Z",
     "start_time": "2021-11-23T10:56:46.197092Z"
    }
   },
   "outputs": [],
   "source": [
    "gr_data = gr.drop(['날짜', '지역', '코로나_차분(1)'], axis=1)\n",
    "col_Y = ['관광객']\n",
    "gr_data = gr_data[:-2]\n",
    "\n",
    "gr_train = gr_data[:splits]\n",
    "gr_trainX, gr_trainy = gr_train[gr_train.columns.difference(col_Y)], gr_train[col_Y]\n",
    "gr_test = gr_data[splits:]\n",
    "gr_testX, gr_testy = gr_test[gr_test.columns.difference(col_Y)], gr_test[col_Y]"
   ]
  },
  {
   "cell_type": "code",
   "execution_count": 88,
   "id": "f32b3075",
   "metadata": {
    "ExecuteTime": {
     "end_time": "2021-11-23T10:56:46.210114Z",
     "start_time": "2021-11-23T10:56:46.207788Z"
    }
   },
   "outputs": [],
   "source": [
    "import xgboost as xgb"
   ]
  },
  {
   "cell_type": "markdown",
   "id": "6a1de7f1",
   "metadata": {},
   "source": [
    "## Model making"
   ]
  },
  {
   "cell_type": "code",
   "execution_count": 89,
   "id": "cfa1f17c",
   "metadata": {
    "ExecuteTime": {
     "end_time": "2021-11-23T10:56:46.215711Z",
     "start_time": "2021-11-23T10:56:46.212450Z"
    }
   },
   "outputs": [],
   "source": [
    "model = xgb.XGBRegressor(booster='gbtree', gamma=0.01, learning_rate=0.07, max_depth=5)\n",
    "model_tree = xgb.XGBRegressor(booster='gbtree', eval_metric='mae', learning_rate=lr, n_estimators=n_estimator, gamma=gamma)"
   ]
  },
  {
   "cell_type": "code",
   "execution_count": 90,
   "id": "5496c465",
   "metadata": {
    "ExecuteTime": {
     "end_time": "2021-11-23T10:56:46.616285Z",
     "start_time": "2021-11-23T10:56:46.218094Z"
    }
   },
   "outputs": [
    {
     "data": {
      "text/plain": [
       "XGBRegressor(base_score=0.5, booster='gbtree', colsample_bylevel=1,\n",
       "             colsample_bynode=1, colsample_bytree=1, eval_metric='mae',\n",
       "             gamma=0.05, gpu_id=-1, importance_type='gain',\n",
       "             interaction_constraints='', learning_rate=0.05, max_delta_step=0,\n",
       "             max_depth=6, min_child_weight=1, missing=nan,\n",
       "             monotone_constraints='()', n_estimators=100, n_jobs=8,\n",
       "             num_parallel_tree=1, random_state=0, reg_alpha=0, reg_lambda=1,\n",
       "             scale_pos_weight=1, subsample=1, tree_method='exact',\n",
       "             validate_parameters=1, verbosity=None)"
      ]
     },
     "execution_count": 90,
     "metadata": {},
     "output_type": "execute_result"
    }
   ],
   "source": [
    "model.fit(gr_trainX, gr_trainy)\n",
    "model_tree.fit(gr_trainX, gr_trainy)"
   ]
  },
  {
   "cell_type": "code",
   "execution_count": 91,
   "id": "10898259",
   "metadata": {
    "ExecuteTime": {
     "end_time": "2021-11-23T10:56:46.867383Z",
     "start_time": "2021-11-23T10:56:46.618336Z"
    }
   },
   "outputs": [
    {
     "data": {
      "text/plain": [
       "<AxesSubplot:title={'center':'Feature importance'}, xlabel='F score', ylabel='Features'>"
      ]
     },
     "execution_count": 91,
     "metadata": {},
     "output_type": "execute_result"
    },
    {
     "data": {
      "image/png": "[encoded data removed]",
      "text/plain": [
       "<Figure size 432x288 with 1 Axes>"
      ]
     },
     "metadata": {
      "needs_background": "light"
     },
     "output_type": "display_data"
    }
   ],
   "source": [
    "xgb.plot_importance(model_tree)"
   ]
  },
  {
   "cell_type": "code",
   "execution_count": 92,
   "id": "2d808aab",
   "metadata": {
    "ExecuteTime": {
     "end_time": "2021-11-23T10:56:46.875079Z",
     "start_time": "2021-11-23T10:56:46.869233Z"
    }
   },
   "outputs": [],
   "source": [
    "tree_pred = model_tree.predict(gr_testX)\n",
    "pred = model.predict(gr_testX)"
   ]
  },
  {
   "cell_type": "code",
   "execution_count": 93,
   "id": "10592428",
   "metadata": {
    "ExecuteTime": {
     "end_time": "2021-11-23T10:56:46.883823Z",
     "start_time": "2021-11-23T10:56:46.877069Z"
    }
   },
   "outputs": [],
   "source": [
    "mae_tree = mean_absolute_error(tree_pred, gr_testy)\n",
    "mae = mean_absolute_error(pred, gr_testy)"
   ]
  },
  {
   "cell_type": "code",
   "execution_count": 94,
   "id": "5e59d8e9",
   "metadata": {
    "ExecuteTime": {
     "end_time": "2021-11-23T10:56:46.892741Z",
     "start_time": "2021-11-23T10:56:46.886092Z"
    }
   },
   "outputs": [
    {
     "name": "stdout",
     "output_type": "stream",
     "text": [
      "tree model precition and real case\n",
      "\n",
      "[ 58562.  67135.  65615.  64769. 110974.]\n",
      "[ 62412.  63277.  61213.  75860. 123546.]\n",
      "--------------------------------------------------\n",
      "linear model precition and real case\n",
      "\n",
      "[ 70496.  58306. 117076. 115128.  74119.]\n",
      "[ 62412.  63277.  61213.  75860. 123546.]\n",
      "--------------------------------------------------\n",
      "tree boosting MAE : 7154.546875\n",
      "GridSearch boosting MAE : 7486.0875\n"
     ]
    }
   ],
   "source": [
    "print('tree model precition and real case\\n')\n",
    "print(np.round(tree_pred))\n",
    "print(np.array(gr_testy).reshape(-1))\n",
    "\n",
    "print('-'*50)\n",
    "\n",
    "print('linear model precition and real case\\n')\n",
    "print(np.round(linear_pred))\n",
    "print(np.array(gr_testy).astype(float).reshape(-1))\n",
    "\n",
    "print('-'*50)\n",
    "print(f'tree boosting MAE : {mae_tree}')\n",
    "print(f'GridSearch boosting MAE : {mae}')"
   ]
  },
  {
   "cell_type": "code",
   "execution_count": 95,
   "id": "0d73137c",
   "metadata": {
    "ExecuteTime": {
     "end_time": "2021-11-23T10:56:46.904512Z",
     "start_time": "2021-11-23T10:56:46.895724Z"
    }
   },
   "outputs": [],
   "source": [
    "pred_df = pd.DataFrame(columns=['number', 'tree_pred','linear_pred', 'real'])\n",
    "pred_df['number'] = [1,2,3,4,5]\n",
    "pred_df['tree_pred'] = tree_pred\n",
    "pred_df['GridSearch_pred'] = pred\n",
    "pred_df['real'] = np.array(gr_testy).astype(float).reshape(-1)"
   ]
  },
  {
   "cell_type": "code",
   "execution_count": 96,
   "id": "57ad13d4",
   "metadata": {
    "ExecuteTime": {
     "end_time": "2021-11-23T10:56:47.220655Z",
     "start_time": "2021-11-23T10:56:46.906878Z"
    }
   },
   "outputs": [
    {
     "data": {
      "image/png": "[encoded data removed]",
      "text/plain": [
       "<Figure size 864x504 with 1 Axes>"
      ]
     },
     "metadata": {
      "needs_background": "light"
     },
     "output_type": "display_data"
    }
   ],
   "source": [
    "fig, ax = plt.subplots(figsize=(12, 7))\n",
    "sns.lineplot(data=pred_df,x='number', y='real', color='r')\n",
    "sns.scatterplot(data=pred_df,x='number', y='real', color='r')\n",
    "sns.lineplot(data=pred_df,x='number', y='tree_pred', color='b')\n",
    "sns.scatterplot(data=pred_df,x='number', y='tree_pred', color='b')\n",
    "sns.lineplot(data=pred_df,x='number', y='GridSearch_pred', color='g')\n",
    "sns.scatterplot(data=pred_df,x='number', y='GridSearch_pred', color='g')\n",
    "\n",
    "plt.legend(labels=['real', 'tree pred', 'GridSearch_pred'])\n",
    "plt.grid()\n",
    "plt.show()"
   ]
  },
  {
   "cell_type": "code",
   "execution_count": null,
   "id": "0b5af75d",
   "metadata": {},
   "outputs": [],
   "source": []
  }
 ],
 "metadata": {
  "kernelspec": {
   "display_name": "Python 3",
   "language": "python",
   "name": "python3"
  },
  "language_info": {
   "codemirror_mode": {
    "name": "ipython",
    "version": 3
   },
   "file_extension": ".py",
   "mimetype": "text/x-python",
   "name": "python",
   "nbconvert_exporter": "python",
   "pygments_lexer": "ipython3",
   "version": "3.8.8"
  },
  "toc": {
   "base_numbering": 1,
   "nav_menu": {},
   "number_sections": true,
   "sideBar": true,
   "skip_h1_title": false,
   "title_cell": "Table of Contents",
   "title_sidebar": "Contents",
   "toc_cell": false,
   "toc_position": {},
   "toc_section_display": true,
   "toc_window_display": false
  },
  "varInspector": {
   "cols": {
    "lenName": 16,
    "lenType": 16,
    "lenVar": 40
   },
   "kernels_config": {
    "python": {
     "delete_cmd_postfix": "",
     "delete_cmd_prefix": "del ",
     "library": "var_list.py",
     "varRefreshCmd": "print(var_dic_list())"
    },
    "r": {
     "delete_cmd_postfix": ") ",
     "delete_cmd_prefix": "rm(",
     "library": "var_list.r",
     "varRefreshCmd": "cat(var_dic_list()) "
    }
   },
   "types_to_exclude": [
    "module",
    "function",
    "builtin_function_or_method",
    "instance",
    "_Feature"
   ],
   "window_display": false
  }
 },
 "nbformat": 4,
 "nbformat_minor": 5
}
