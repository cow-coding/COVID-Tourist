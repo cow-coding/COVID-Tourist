{
 "cells": [
  {
   "cell_type": "markdown",
   "id": "74e6e478",
   "metadata": {},
   "source": [
    "# Library Import"
   ]
  },
  {
   "cell_type": "code",
   "execution_count": 96,
   "id": "84473a0d",
   "metadata": {
    "ExecuteTime": {
     "end_time": "2021-11-23T10:43:57.565678Z",
     "start_time": "2021-11-23T10:43:57.561129Z"
    }
   },
   "outputs": [],
   "source": [
    "import pandas as pd\n",
    "import numpy as np\n",
    "\n",
    "import matplotlib.pyplot as plt\n",
    "import seaborn as sns\n",
    "from matplotlib import rc\n",
    "import matplotlib as mpl\n",
    "\n",
    "import warnings"
   ]
  },
  {
   "cell_type": "code",
   "execution_count": 97,
   "id": "0704c22a",
   "metadata": {
    "ExecuteTime": {
     "end_time": "2021-11-23T10:43:57.573890Z",
     "start_time": "2021-11-23T10:43:57.570194Z"
    }
   },
   "outputs": [],
   "source": [
    "warnings.filterwarnings(\"ignore\")\n",
    "rc('font', family='AppleGothic')\n",
    "\n",
    "plt.rcParams['axes.unicode_minus'] = False"
   ]
  },
  {
   "cell_type": "markdown",
   "id": "41fdf581",
   "metadata": {},
   "source": [
    "# 데이터 로드"
   ]
  },
  {
   "cell_type": "code",
   "execution_count": 98,
   "id": "2ad55359",
   "metadata": {
    "ExecuteTime": {
     "end_time": "2021-11-23T10:43:57.608308Z",
     "start_time": "2021-11-23T10:43:57.577592Z"
    }
   },
   "outputs": [
    {
     "data": {
      "text/html": [
       "<div>\n",
       "<style scoped>\n",
       "    .dataframe tbody tr th:only-of-type {\n",
       "        vertical-align: middle;\n",
       "    }\n",
       "\n",
       "    .dataframe tbody tr th {\n",
       "        vertical-align: top;\n",
       "    }\n",
       "\n",
       "    .dataframe thead th {\n",
       "        text-align: right;\n",
       "    }\n",
       "</style>\n",
       "<table border=\"1\" class=\"dataframe\">\n",
       "  <thead>\n",
       "    <tr style=\"text-align: right;\">\n",
       "      <th></th>\n",
       "      <th>날짜</th>\n",
       "      <th>지역</th>\n",
       "      <th>관광객</th>\n",
       "      <th>FESTIVAL</th>\n",
       "      <th>기온(°C)</th>\n",
       "      <th>습도(%)</th>\n",
       "      <th>강수량(mm)</th>\n",
       "      <th>scaled</th>\n",
       "      <th>관광객_차분(1)</th>\n",
       "      <th>코로나인원</th>\n",
       "      <th>holliday</th>\n",
       "      <th>누적확진(명)</th>\n",
       "      <th>신규확진(명)</th>\n",
       "      <th>shift(1)</th>\n",
       "      <th>shift(2)</th>\n",
       "      <th>shift(3)</th>\n",
       "      <th>shift(4)</th>\n",
       "      <th>shift(5)</th>\n",
       "    </tr>\n",
       "  </thead>\n",
       "  <tbody>\n",
       "    <tr>\n",
       "      <th>0</th>\n",
       "      <td>2019-03-01</td>\n",
       "      <td>전주시</td>\n",
       "      <td>243514</td>\n",
       "      <td>0</td>\n",
       "      <td>9.957143</td>\n",
       "      <td>43.714286</td>\n",
       "      <td>0.0</td>\n",
       "      <td>0.804789</td>\n",
       "      <td>0.0</td>\n",
       "      <td>0.0</td>\n",
       "      <td>1.0</td>\n",
       "      <td>0.0</td>\n",
       "      <td>0.0</td>\n",
       "      <td>0.0</td>\n",
       "      <td>0.0</td>\n",
       "      <td>0.0</td>\n",
       "      <td>0.0</td>\n",
       "      <td>0.0</td>\n",
       "    </tr>\n",
       "    <tr>\n",
       "      <th>1</th>\n",
       "      <td>2019-03-02</td>\n",
       "      <td>전주시</td>\n",
       "      <td>250850</td>\n",
       "      <td>0</td>\n",
       "      <td>12.485714</td>\n",
       "      <td>38.428571</td>\n",
       "      <td>0.0</td>\n",
       "      <td>0.844920</td>\n",
       "      <td>7336.0</td>\n",
       "      <td>0.0</td>\n",
       "      <td>1.0</td>\n",
       "      <td>0.0</td>\n",
       "      <td>0.0</td>\n",
       "      <td>0.0</td>\n",
       "      <td>0.0</td>\n",
       "      <td>0.0</td>\n",
       "      <td>0.0</td>\n",
       "      <td>0.0</td>\n",
       "    </tr>\n",
       "    <tr>\n",
       "      <th>2</th>\n",
       "      <td>2019-03-03</td>\n",
       "      <td>전주시</td>\n",
       "      <td>197335</td>\n",
       "      <td>0</td>\n",
       "      <td>13.100000</td>\n",
       "      <td>44.142857</td>\n",
       "      <td>0.0</td>\n",
       "      <td>0.552171</td>\n",
       "      <td>-53515.0</td>\n",
       "      <td>0.0</td>\n",
       "      <td>1.0</td>\n",
       "      <td>0.0</td>\n",
       "      <td>0.0</td>\n",
       "      <td>0.0</td>\n",
       "      <td>0.0</td>\n",
       "      <td>0.0</td>\n",
       "      <td>0.0</td>\n",
       "      <td>0.0</td>\n",
       "    </tr>\n",
       "    <tr>\n",
       "      <th>3</th>\n",
       "      <td>2019-03-04</td>\n",
       "      <td>전주시</td>\n",
       "      <td>171854</td>\n",
       "      <td>0</td>\n",
       "      <td>11.585714</td>\n",
       "      <td>57.142857</td>\n",
       "      <td>0.0</td>\n",
       "      <td>0.412780</td>\n",
       "      <td>-25481.0</td>\n",
       "      <td>0.0</td>\n",
       "      <td>0.0</td>\n",
       "      <td>0.0</td>\n",
       "      <td>0.0</td>\n",
       "      <td>0.0</td>\n",
       "      <td>0.0</td>\n",
       "      <td>0.0</td>\n",
       "      <td>0.0</td>\n",
       "      <td>0.0</td>\n",
       "    </tr>\n",
       "    <tr>\n",
       "      <th>4</th>\n",
       "      <td>2019-03-05</td>\n",
       "      <td>전주시</td>\n",
       "      <td>176674</td>\n",
       "      <td>0</td>\n",
       "      <td>12.242857</td>\n",
       "      <td>46.285714</td>\n",
       "      <td>0.0</td>\n",
       "      <td>0.439147</td>\n",
       "      <td>4820.0</td>\n",
       "      <td>0.0</td>\n",
       "      <td>0.0</td>\n",
       "      <td>0.0</td>\n",
       "      <td>0.0</td>\n",
       "      <td>0.0</td>\n",
       "      <td>0.0</td>\n",
       "      <td>0.0</td>\n",
       "      <td>0.0</td>\n",
       "      <td>0.0</td>\n",
       "    </tr>\n",
       "  </tbody>\n",
       "</table>\n",
       "</div>"
      ],
      "text/plain": [
       "           날짜   지역     관광객  FESTIVAL     기온(°C)      습도(%)  강수량(mm)    scaled  \\\n",
       "0  2019-03-01  전주시  243514         0   9.957143  43.714286      0.0  0.804789   \n",
       "1  2019-03-02  전주시  250850         0  12.485714  38.428571      0.0  0.844920   \n",
       "2  2019-03-03  전주시  197335         0  13.100000  44.142857      0.0  0.552171   \n",
       "3  2019-03-04  전주시  171854         0  11.585714  57.142857      0.0  0.412780   \n",
       "4  2019-03-05  전주시  176674         0  12.242857  46.285714      0.0  0.439147   \n",
       "\n",
       "   관광객_차분(1)  코로나인원  holliday  누적확진(명)  신규확진(명)  shift(1)  shift(2)  shift(3)  \\\n",
       "0        0.0    0.0       1.0      0.0      0.0       0.0       0.0       0.0   \n",
       "1     7336.0    0.0       1.0      0.0      0.0       0.0       0.0       0.0   \n",
       "2   -53515.0    0.0       1.0      0.0      0.0       0.0       0.0       0.0   \n",
       "3   -25481.0    0.0       0.0      0.0      0.0       0.0       0.0       0.0   \n",
       "4     4820.0    0.0       0.0      0.0      0.0       0.0       0.0       0.0   \n",
       "\n",
       "   shift(4)  shift(5)  \n",
       "0       0.0       0.0  \n",
       "1       0.0       0.0  \n",
       "2       0.0       0.0  \n",
       "3       0.0       0.0  \n",
       "4       0.0       0.0  "
      ]
     },
     "execution_count": 98,
     "metadata": {},
     "output_type": "execute_result"
    }
   ],
   "source": [
    "jj = pd.read_csv('./전처리최종파일/jj_shift.csv').drop('Unnamed: 0', axis=1)\n",
    "jj.head()"
   ]
  },
  {
   "cell_type": "markdown",
   "id": "c83d13fb",
   "metadata": {},
   "source": [
    "# Modelling"
   ]
  },
  {
   "cell_type": "code",
   "execution_count": 99,
   "id": "8318f7ef",
   "metadata": {
    "ExecuteTime": {
     "end_time": "2021-11-23T10:43:57.613016Z",
     "start_time": "2021-11-23T10:43:57.610597Z"
    }
   },
   "outputs": [],
   "source": [
    "from sklearn.model_selection import train_test_split\n",
    "from sklearn.metrics import mean_squared_error, mean_absolute_error"
   ]
  },
  {
   "cell_type": "code",
   "execution_count": 100,
   "id": "60ea5f74",
   "metadata": {
    "ExecuteTime": {
     "end_time": "2021-11-23T10:43:57.617905Z",
     "start_time": "2021-11-23T10:43:57.615173Z"
    }
   },
   "outputs": [],
   "source": [
    "# params\n",
    "splits = -5\n",
    "lr = 0.05\n",
    "n_estimator = 100\n",
    "gamma = 0.05"
   ]
  },
  {
   "cell_type": "markdown",
   "id": "5e5fab8d",
   "metadata": {},
   "source": [
    "## Data Split"
   ]
  },
  {
   "cell_type": "code",
   "execution_count": 101,
   "id": "2e119091",
   "metadata": {
    "ExecuteTime": {
     "end_time": "2021-11-23T10:43:57.629323Z",
     "start_time": "2021-11-23T10:43:57.620959Z"
    }
   },
   "outputs": [],
   "source": [
    "jj_data = jj.drop(['날짜', '지역', 'scaled', '관광객_차분(1)', '코로나인원', '신규확진(명)'], axis=1)\n",
    "col_Y = ['관광객']\n",
    "jj_data = jj_data[:-2]\n",
    "\n",
    "jj_train = jj_data[:splits]\n",
    "jj_trainX, jj_trainy = jj_train[jj_train.columns.difference(col_Y)], jj_train[col_Y]\n",
    "jj_test = jj_data[splits:]\n",
    "jj_testX, jj_testy = jj_test[jj_test.columns.difference(col_Y)], jj_test[col_Y]"
   ]
  },
  {
   "cell_type": "code",
   "execution_count": 102,
   "id": "73f8d2df",
   "metadata": {
    "ExecuteTime": {
     "end_time": "2021-11-23T10:43:57.633988Z",
     "start_time": "2021-11-23T10:43:57.631774Z"
    }
   },
   "outputs": [],
   "source": [
    "import xgboost as xgb"
   ]
  },
  {
   "cell_type": "markdown",
   "id": "7de6ce23",
   "metadata": {},
   "source": [
    "## Model making"
   ]
  },
  {
   "cell_type": "code",
   "execution_count": 103,
   "id": "0a8a00ad",
   "metadata": {
    "ExecuteTime": {
     "end_time": "2021-11-23T10:43:57.639540Z",
     "start_time": "2021-11-23T10:43:57.635806Z"
    }
   },
   "outputs": [],
   "source": [
    "model = xgb.XGBRegressor(booster='gbtree', gamma=0.01, learning_rate=0.07, max_depth=5)\n",
    "model_tree = xgb.XGBRegressor(booster='gbtree', eval_metric='mae', learning_rate=lr, n_estimators=n_estimator, gamma=gamma)"
   ]
  },
  {
   "cell_type": "markdown",
   "id": "061698a8",
   "metadata": {},
   "source": [
    "## Model train and test"
   ]
  },
  {
   "cell_type": "code",
   "execution_count": 104,
   "id": "106d57b9",
   "metadata": {
    "ExecuteTime": {
     "end_time": "2021-11-23T10:43:58.039341Z",
     "start_time": "2021-11-23T10:43:57.641133Z"
    }
   },
   "outputs": [
    {
     "data": {
      "text/plain": [
       "XGBRegressor(base_score=0.5, booster='gbtree', colsample_bylevel=1,\n",
       "             colsample_bynode=1, colsample_bytree=1, eval_metric='mae',\n",
       "             gamma=0.05, gpu_id=-1, importance_type='gain',\n",
       "             interaction_constraints='', learning_rate=0.05, max_delta_step=0,\n",
       "             max_depth=6, min_child_weight=1, missing=nan,\n",
       "             monotone_constraints='()', n_estimators=100, n_jobs=8,\n",
       "             num_parallel_tree=1, random_state=0, reg_alpha=0, reg_lambda=1,\n",
       "             scale_pos_weight=1, subsample=1, tree_method='exact',\n",
       "             validate_parameters=1, verbosity=None)"
      ]
     },
     "execution_count": 104,
     "metadata": {},
     "output_type": "execute_result"
    }
   ],
   "source": [
    "model.fit(jj_trainX, jj_trainy)\n",
    "model_tree.fit(jj_trainX, jj_trainy)"
   ]
  },
  {
   "cell_type": "code",
   "execution_count": 105,
   "id": "e3e2096d",
   "metadata": {
    "ExecuteTime": {
     "end_time": "2021-11-23T10:43:58.268365Z",
     "start_time": "2021-11-23T10:43:58.041320Z"
    }
   },
   "outputs": [
    {
     "data": {
      "text/plain": [
       "<AxesSubplot:title={'center':'Feature importance'}, xlabel='F score', ylabel='Features'>"
      ]
     },
     "execution_count": 105,
     "metadata": {},
     "output_type": "execute_result"
    },
    {
     "data": {
      "image/png": "[encoded data removed]",
      "text/plain": [
       "<Figure size 432x288 with 1 Axes>"
      ]
     },
     "metadata": {
      "needs_background": "light"
     },
     "output_type": "display_data"
    }
   ],
   "source": [
    "xgb.plot_importance(model_tree)"
   ]
  },
  {
   "cell_type": "code",
   "execution_count": 111,
   "id": "3685f9db",
   "metadata": {
    "ExecuteTime": {
     "end_time": "2021-11-23T10:44:58.304722Z",
     "start_time": "2021-11-23T10:44:58.035486Z"
    }
   },
   "outputs": [
    {
     "data": {
      "text/plain": [
       "<AxesSubplot:title={'center':'Feature importance'}, xlabel='F score', ylabel='Features'>"
      ]
     },
     "execution_count": 111,
     "metadata": {},
     "output_type": "execute_result"
    },
    {
     "data": {
      "image/png": "[encoded data removed]",
      "text/plain": [
       "<Figure size 432x288 with 1 Axes>"
      ]
     },
     "metadata": {
      "needs_background": "light"
     },
     "output_type": "display_data"
    }
   ],
   "source": [
    "xgb.plot_importance(model)"
   ]
  },
  {
   "cell_type": "code",
   "execution_count": 106,
   "id": "424dabbf",
   "metadata": {
    "ExecuteTime": {
     "end_time": "2021-11-23T10:43:58.277598Z",
     "start_time": "2021-11-23T10:43:58.271102Z"
    }
   },
   "outputs": [],
   "source": [
    "tree_pred = model_tree.predict(jj_testX)\n",
    "pred = model.predict(jj_testX)"
   ]
  },
  {
   "cell_type": "code",
   "execution_count": 107,
   "id": "5b3c916f",
   "metadata": {
    "ExecuteTime": {
     "end_time": "2021-11-23T10:43:58.286644Z",
     "start_time": "2021-11-23T10:43:58.279357Z"
    }
   },
   "outputs": [],
   "source": [
    "mae_tree = mean_absolute_error(tree_pred, jj_testy)\n",
    "mae = mean_absolute_error(pred, jj_testy)"
   ]
  },
  {
   "cell_type": "code",
   "execution_count": 108,
   "id": "ae3d09be",
   "metadata": {
    "ExecuteTime": {
     "end_time": "2021-11-23T10:43:58.295947Z",
     "start_time": "2021-11-23T10:43:58.288871Z"
    }
   },
   "outputs": [
    {
     "name": "stdout",
     "output_type": "stream",
     "text": [
      "tree model precition and real case\n",
      "\n",
      "[152923. 157715. 157467. 176158. 234909.]\n",
      "[156915 159484 158652 176615 228399]\n",
      "--------------------------------------------------\n",
      "linear model precition and real case\n",
      "\n",
      "[187573.  74313. 216153. 220153. 181623.]\n",
      "[156915. 159484. 158652. 176615. 228399.]\n",
      "--------------------------------------------------\n",
      "tree boosting MAE : 2782.73125\n",
      "GridSearch boosting MAE : 4391.853125\n"
     ]
    }
   ],
   "source": [
    "print('tree model precition and real case\\n')\n",
    "print(np.round(tree_pred))\n",
    "print(np.array(jj_testy).reshape(-1))\n",
    "\n",
    "print('-'*50)\n",
    "\n",
    "print('linear model precition and real case\\n')\n",
    "print(np.round(linear_pred))\n",
    "print(np.array(jj_testy).astype(float).reshape(-1))\n",
    "\n",
    "print('-'*50)\n",
    "print(f'tree boosting MAE : {mae_tree}')\n",
    "print(f'GridSearch boosting MAE : {mae}')"
   ]
  },
  {
   "cell_type": "code",
   "execution_count": 109,
   "id": "550a2481",
   "metadata": {
    "ExecuteTime": {
     "end_time": "2021-11-23T10:43:58.315549Z",
     "start_time": "2021-11-23T10:43:58.306513Z"
    }
   },
   "outputs": [],
   "source": [
    "pred_df = pd.DataFrame(columns=['number', 'tree_pred','linear_pred', 'real'])\n",
    "pred_df['number'] = [1,2,3,4,5]\n",
    "pred_df['tree_pred'] = tree_pred\n",
    "pred_df['GridSearch_pred'] = pred\n",
    "pred_df['real'] = np.array(jj_testy).astype(float).reshape(-1)"
   ]
  },
  {
   "cell_type": "code",
   "execution_count": 110,
   "id": "8dd374e2",
   "metadata": {
    "ExecuteTime": {
     "end_time": "2021-11-23T10:43:58.606263Z",
     "start_time": "2021-11-23T10:43:58.321178Z"
    }
   },
   "outputs": [
    {
     "data": {
      "image/png": "[encoded data removed]",
      "text/plain": [
       "<Figure size 864x504 with 1 Axes>"
      ]
     },
     "metadata": {
      "needs_background": "light"
     },
     "output_type": "display_data"
    }
   ],
   "source": [
    "fig, ax = plt.subplots(figsize=(12, 7))\n",
    "sns.lineplot(data=pred_df,x='number', y='real', color='r')\n",
    "sns.scatterplot(data=pred_df,x='number', y='real', color='r')\n",
    "sns.lineplot(data=pred_df,x='number', y='tree_pred', color='b')\n",
    "sns.scatterplot(data=pred_df,x='number', y='tree_pred', color='b')\n",
    "sns.lineplot(data=pred_df,x='number', y='GridSearch_pred', color='g')\n",
    "sns.scatterplot(data=pred_df,x='number', y='GridSearch_pred', color='g')\n",
    "\n",
    "plt.legend(labels=['real', 'tree pred', 'GridSearch_pred'])\n",
    "plt.grid()\n",
    "plt.show()"
   ]
  },
  {
   "cell_type": "code",
   "execution_count": null,
   "id": "ffc6f8c8",
   "metadata": {},
   "outputs": [],
   "source": []
  }
 ],
 "metadata": {
  "kernelspec": {
   "display_name": "Python 3",
   "language": "python",
   "name": "python3"
  },
  "language_info": {
   "codemirror_mode": {
    "name": "ipython",
    "version": 3
   },
   "file_extension": ".py",
   "mimetype": "text/x-python",
   "name": "python",
   "nbconvert_exporter": "python",
   "pygments_lexer": "ipython3",
   "version": "3.8.8"
  },
  "toc": {
   "base_numbering": 1,
   "nav_menu": {},
   "number_sections": true,
   "sideBar": true,
   "skip_h1_title": false,
   "title_cell": "Table of Contents",
   "title_sidebar": "Contents",
   "toc_cell": false,
   "toc_position": {},
   "toc_section_display": true,
   "toc_window_display": false
  },
  "varInspector": {
   "cols": {
    "lenName": 16,
    "lenType": 16,
    "lenVar": 40
   },
   "kernels_config": {
    "python": {
     "delete_cmd_postfix": "",
     "delete_cmd_prefix": "del ",
     "library": "var_list.py",
     "varRefreshCmd": "print(var_dic_list())"
    },
    "r": {
     "delete_cmd_postfix": ") ",
     "delete_cmd_prefix": "rm(",
     "library": "var_list.r",
     "varRefreshCmd": "cat(var_dic_list()) "
    }
   },
   "types_to_exclude": [
    "module",
    "function",
    "builtin_function_or_method",
    "instance",
    "_Feature"
   ],
   "window_display": false
  }
 },
 "nbformat": 4,
 "nbformat_minor": 5
}
