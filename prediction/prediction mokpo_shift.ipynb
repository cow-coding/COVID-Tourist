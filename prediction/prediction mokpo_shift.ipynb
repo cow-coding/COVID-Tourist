{
 "cells": [
  {
   "cell_type": "markdown",
   "id": "27ccf543",
   "metadata": {},
   "source": [
    "# Library Import"
   ]
  },
  {
   "cell_type": "code",
   "execution_count": 83,
   "id": "a0d39a88",
   "metadata": {
    "ExecuteTime": {
     "end_time": "2021-11-23T10:56:52.654944Z",
     "start_time": "2021-11-23T10:56:52.651559Z"
    }
   },
   "outputs": [],
   "source": [
    "import pandas as pd\n",
    "import numpy as np\n",
    "\n",
    "import matplotlib.pyplot as plt\n",
    "import seaborn as sns\n",
    "from matplotlib import rc\n",
    "\n",
    "import warnings"
   ]
  },
  {
   "cell_type": "code",
   "execution_count": 84,
   "id": "3c47b7e2",
   "metadata": {
    "ExecuteTime": {
     "end_time": "2021-11-23T10:56:52.661951Z",
     "start_time": "2021-11-23T10:56:52.658241Z"
    }
   },
   "outputs": [],
   "source": [
    "warnings.filterwarnings(\"ignore\")\n",
    "rc('font', family='AppleGothic')\n",
    "\n",
    "plt.rcParams['axes.unicode_minus'] = False"
   ]
  },
  {
   "cell_type": "markdown",
   "id": "d135b99b",
   "metadata": {},
   "source": [
    "# 데이터 로드"
   ]
  },
  {
   "cell_type": "code",
   "execution_count": 85,
   "id": "c1774cc4",
   "metadata": {
    "ExecuteTime": {
     "end_time": "2021-11-23T10:56:52.695393Z",
     "start_time": "2021-11-23T10:56:52.665775Z"
    }
   },
   "outputs": [
    {
     "data": {
      "text/html": [
       "<div>\n",
       "<style scoped>\n",
       "    .dataframe tbody tr th:only-of-type {\n",
       "        vertical-align: middle;\n",
       "    }\n",
       "\n",
       "    .dataframe tbody tr th {\n",
       "        vertical-align: top;\n",
       "    }\n",
       "\n",
       "    .dataframe thead th {\n",
       "        text-align: right;\n",
       "    }\n",
       "</style>\n",
       "<table border=\"1\" class=\"dataframe\">\n",
       "  <thead>\n",
       "    <tr style=\"text-align: right;\">\n",
       "      <th></th>\n",
       "      <th>날짜</th>\n",
       "      <th>지역</th>\n",
       "      <th>관광객</th>\n",
       "      <th>FESTIVAL</th>\n",
       "      <th>기온(°C)</th>\n",
       "      <th>습도(%)</th>\n",
       "      <th>강수량(mm)</th>\n",
       "      <th>코로나인원</th>\n",
       "      <th>holliday</th>\n",
       "      <th>누적확진(명)</th>\n",
       "      <th>신규확진(명)</th>\n",
       "      <th>shift(1)</th>\n",
       "      <th>shift(2)</th>\n",
       "      <th>shift(3)</th>\n",
       "      <th>shift(4)</th>\n",
       "      <th>shift(5)</th>\n",
       "    </tr>\n",
       "  </thead>\n",
       "  <tbody>\n",
       "    <tr>\n",
       "      <th>0</th>\n",
       "      <td>2019-03-01</td>\n",
       "      <td>목포시</td>\n",
       "      <td>77371.0</td>\n",
       "      <td>0.0</td>\n",
       "      <td>9.300000</td>\n",
       "      <td>47.000000</td>\n",
       "      <td>0.0</td>\n",
       "      <td>0.0</td>\n",
       "      <td>1.0</td>\n",
       "      <td>0.0</td>\n",
       "      <td>0.0</td>\n",
       "      <td>0.0</td>\n",
       "      <td>0.0</td>\n",
       "      <td>0.0</td>\n",
       "      <td>0.0</td>\n",
       "      <td>0.0</td>\n",
       "    </tr>\n",
       "    <tr>\n",
       "      <th>1</th>\n",
       "      <td>2019-03-02</td>\n",
       "      <td>목포시</td>\n",
       "      <td>80479.0</td>\n",
       "      <td>0.0</td>\n",
       "      <td>11.185714</td>\n",
       "      <td>52.428571</td>\n",
       "      <td>0.0</td>\n",
       "      <td>0.0</td>\n",
       "      <td>1.0</td>\n",
       "      <td>0.0</td>\n",
       "      <td>0.0</td>\n",
       "      <td>0.0</td>\n",
       "      <td>0.0</td>\n",
       "      <td>0.0</td>\n",
       "      <td>0.0</td>\n",
       "      <td>0.0</td>\n",
       "    </tr>\n",
       "    <tr>\n",
       "      <th>2</th>\n",
       "      <td>2019-03-03</td>\n",
       "      <td>목포시</td>\n",
       "      <td>66308.0</td>\n",
       "      <td>0.0</td>\n",
       "      <td>10.714286</td>\n",
       "      <td>62.285714</td>\n",
       "      <td>0.0</td>\n",
       "      <td>0.0</td>\n",
       "      <td>1.0</td>\n",
       "      <td>0.0</td>\n",
       "      <td>0.0</td>\n",
       "      <td>0.0</td>\n",
       "      <td>0.0</td>\n",
       "      <td>0.0</td>\n",
       "      <td>0.0</td>\n",
       "      <td>0.0</td>\n",
       "    </tr>\n",
       "    <tr>\n",
       "      <th>3</th>\n",
       "      <td>2019-03-04</td>\n",
       "      <td>목포시</td>\n",
       "      <td>51879.0</td>\n",
       "      <td>0.0</td>\n",
       "      <td>9.971429</td>\n",
       "      <td>58.571429</td>\n",
       "      <td>0.0</td>\n",
       "      <td>0.0</td>\n",
       "      <td>0.0</td>\n",
       "      <td>0.0</td>\n",
       "      <td>0.0</td>\n",
       "      <td>0.0</td>\n",
       "      <td>0.0</td>\n",
       "      <td>0.0</td>\n",
       "      <td>0.0</td>\n",
       "      <td>0.0</td>\n",
       "    </tr>\n",
       "    <tr>\n",
       "      <th>4</th>\n",
       "      <td>2019-03-05</td>\n",
       "      <td>목포시</td>\n",
       "      <td>49055.0</td>\n",
       "      <td>0.0</td>\n",
       "      <td>9.671429</td>\n",
       "      <td>66.714286</td>\n",
       "      <td>0.0</td>\n",
       "      <td>0.0</td>\n",
       "      <td>0.0</td>\n",
       "      <td>0.0</td>\n",
       "      <td>0.0</td>\n",
       "      <td>0.0</td>\n",
       "      <td>0.0</td>\n",
       "      <td>0.0</td>\n",
       "      <td>0.0</td>\n",
       "      <td>0.0</td>\n",
       "    </tr>\n",
       "  </tbody>\n",
       "</table>\n",
       "</div>"
      ],
      "text/plain": [
       "           날짜   지역      관광객  FESTIVAL     기온(°C)      습도(%)  강수량(mm)  코로나인원  \\\n",
       "0  2019-03-01  목포시  77371.0       0.0   9.300000  47.000000      0.0    0.0   \n",
       "1  2019-03-02  목포시  80479.0       0.0  11.185714  52.428571      0.0    0.0   \n",
       "2  2019-03-03  목포시  66308.0       0.0  10.714286  62.285714      0.0    0.0   \n",
       "3  2019-03-04  목포시  51879.0       0.0   9.971429  58.571429      0.0    0.0   \n",
       "4  2019-03-05  목포시  49055.0       0.0   9.671429  66.714286      0.0    0.0   \n",
       "\n",
       "   holliday  누적확진(명)  신규확진(명)  shift(1)  shift(2)  shift(3)  shift(4)  \\\n",
       "0       1.0      0.0      0.0       0.0       0.0       0.0       0.0   \n",
       "1       1.0      0.0      0.0       0.0       0.0       0.0       0.0   \n",
       "2       1.0      0.0      0.0       0.0       0.0       0.0       0.0   \n",
       "3       0.0      0.0      0.0       0.0       0.0       0.0       0.0   \n",
       "4       0.0      0.0      0.0       0.0       0.0       0.0       0.0   \n",
       "\n",
       "   shift(5)  \n",
       "0       0.0  \n",
       "1       0.0  \n",
       "2       0.0  \n",
       "3       0.0  \n",
       "4       0.0  "
      ]
     },
     "execution_count": 85,
     "metadata": {},
     "output_type": "execute_result"
    }
   ],
   "source": [
    "mp = pd.read_csv('./전처리최종파일/mp_shift.csv').drop('Unnamed: 0', axis=1)\n",
    "mp.head()"
   ]
  },
  {
   "cell_type": "markdown",
   "id": "efeb3f8e",
   "metadata": {},
   "source": [
    "# Modelling"
   ]
  },
  {
   "cell_type": "code",
   "execution_count": 86,
   "id": "a47f4d7e",
   "metadata": {
    "ExecuteTime": {
     "end_time": "2021-11-23T10:56:52.700167Z",
     "start_time": "2021-11-23T10:56:52.697792Z"
    }
   },
   "outputs": [],
   "source": [
    "from sklearn.model_selection import train_test_split\n",
    "from sklearn.metrics import mean_squared_error, mean_absolute_error"
   ]
  },
  {
   "cell_type": "code",
   "execution_count": 87,
   "id": "e76db28f",
   "metadata": {
    "ExecuteTime": {
     "end_time": "2021-11-23T10:56:52.704493Z",
     "start_time": "2021-11-23T10:56:52.702056Z"
    }
   },
   "outputs": [],
   "source": [
    "# params\n",
    "splits = -5\n",
    "lr = 0.05\n",
    "n_estimator = 100\n",
    "gamma = 0.05"
   ]
  },
  {
   "cell_type": "markdown",
   "id": "f26b26db",
   "metadata": {},
   "source": [
    "## Data Split"
   ]
  },
  {
   "cell_type": "code",
   "execution_count": 88,
   "id": "ad9cff0d",
   "metadata": {
    "ExecuteTime": {
     "end_time": "2021-11-23T10:56:52.715848Z",
     "start_time": "2021-11-23T10:56:52.706481Z"
    }
   },
   "outputs": [],
   "source": [
    "mp_data = mp.drop(['날짜', '지역'], axis=1)\n",
    "# NA 처리는 linear interpolate 활용 (선형 보간법, forward로)\n",
    "mp_data = mp_data.interpolate(method='linear', limit_direction='forward')\n",
    "col_Y = ['관광객']\n",
    "mp_data = mp_data[:-2]\n",
    "\n",
    "mp_train = mp_data[:splits]\n",
    "mp_trainX, mp_trainy = mp_train[mp_train.columns.difference(col_Y)], mp_train[col_Y]\n",
    "mp_test = mp_data[splits:]\n",
    "mp_testX, mp_testy = mp_test[mp_test.columns.difference(col_Y)], mp_test[col_Y]"
   ]
  },
  {
   "cell_type": "code",
   "execution_count": 89,
   "id": "f32b3075",
   "metadata": {
    "ExecuteTime": {
     "end_time": "2021-11-23T10:56:52.721159Z",
     "start_time": "2021-11-23T10:56:52.719166Z"
    }
   },
   "outputs": [],
   "source": [
    "import xgboost as xgb"
   ]
  },
  {
   "cell_type": "markdown",
   "id": "6a1de7f1",
   "metadata": {},
   "source": [
    "## Model making"
   ]
  },
  {
   "cell_type": "code",
   "execution_count": 90,
   "id": "cfa1f17c",
   "metadata": {
    "ExecuteTime": {
     "end_time": "2021-11-23T10:56:52.726895Z",
     "start_time": "2021-11-23T10:56:52.723876Z"
    }
   },
   "outputs": [],
   "source": [
    "model = xgb.XGBRegressor(booster='gbtree', gamma=0.01, learning_rate=0.07, max_depth=5)\n",
    "model_tree = xgb.XGBRegressor(booster='gbtree', eval_metric='mae', learning_rate=lr, n_estimators=n_estimator, gamma=gamma)"
   ]
  },
  {
   "cell_type": "code",
   "execution_count": 91,
   "id": "19095fc8",
   "metadata": {
    "ExecuteTime": {
     "end_time": "2021-11-23T10:56:53.151480Z",
     "start_time": "2021-11-23T10:56:52.728453Z"
    }
   },
   "outputs": [
    {
     "data": {
      "text/plain": [
       "XGBRegressor(base_score=0.5, booster='gbtree', colsample_bylevel=1,\n",
       "             colsample_bynode=1, colsample_bytree=1, eval_metric='mae',\n",
       "             gamma=0.05, gpu_id=-1, importance_type='gain',\n",
       "             interaction_constraints='', learning_rate=0.05, max_delta_step=0,\n",
       "             max_depth=6, min_child_weight=1, missing=nan,\n",
       "             monotone_constraints='()', n_estimators=100, n_jobs=8,\n",
       "             num_parallel_tree=1, random_state=0, reg_alpha=0, reg_lambda=1,\n",
       "             scale_pos_weight=1, subsample=1, tree_method='exact',\n",
       "             validate_parameters=1, verbosity=None)"
      ]
     },
     "execution_count": 91,
     "metadata": {},
     "output_type": "execute_result"
    }
   ],
   "source": [
    "model.fit(mp_trainX, mp_trainy)\n",
    "model_tree.fit(mp_trainX, mp_trainy)"
   ]
  },
  {
   "cell_type": "code",
   "execution_count": 92,
   "id": "10898259",
   "metadata": {
    "ExecuteTime": {
     "end_time": "2021-11-23T10:56:53.419667Z",
     "start_time": "2021-11-23T10:56:53.154308Z"
    }
   },
   "outputs": [
    {
     "data": {
      "text/plain": [
       "<AxesSubplot:title={'center':'Feature importance'}, xlabel='F score', ylabel='Features'>"
      ]
     },
     "execution_count": 92,
     "metadata": {},
     "output_type": "execute_result"
    },
    {
     "data": {
      "image/png": "[encoded data removed]",
      "text/plain": [
       "<Figure size 432x288 with 1 Axes>"
      ]
     },
     "metadata": {
      "needs_background": "light"
     },
     "output_type": "display_data"
    }
   ],
   "source": [
    "xgb.plot_importance(model_tree)"
   ]
  },
  {
   "cell_type": "code",
   "execution_count": 93,
   "id": "bd528323",
   "metadata": {
    "ExecuteTime": {
     "end_time": "2021-11-23T10:56:53.428274Z",
     "start_time": "2021-11-23T10:56:53.422579Z"
    }
   },
   "outputs": [],
   "source": [
    "tree_pred = model_tree.predict(mp_testX)\n",
    "pred = model.predict(mp_testX)"
   ]
  },
  {
   "cell_type": "code",
   "execution_count": 94,
   "id": "2d808aab",
   "metadata": {
    "ExecuteTime": {
     "end_time": "2021-11-23T10:56:53.437296Z",
     "start_time": "2021-11-23T10:56:53.430116Z"
    }
   },
   "outputs": [],
   "source": [
    "mae_tree = mean_absolute_error(tree_pred, mp_testy)\n",
    "mae = mean_absolute_error(pred, mp_testy)"
   ]
  },
  {
   "cell_type": "code",
   "execution_count": 95,
   "id": "5e59d8e9",
   "metadata": {
    "ExecuteTime": {
     "end_time": "2021-11-23T10:56:53.447238Z",
     "start_time": "2021-11-23T10:56:53.440040Z"
    }
   },
   "outputs": [
    {
     "name": "stdout",
     "output_type": "stream",
     "text": [
      "tree model precition and real case\n",
      "\n",
      "[51947. 51981. 53656. 56968. 73840.]\n",
      "[51743. 52522. 54323. 62398. 81635.]\n",
      "--------------------------------------------------\n",
      "linear model precition and real case\n",
      "\n",
      "[62606. 63926. 74943. 73862. 60099.]\n",
      "[51743. 52522. 54323. 62398. 81635.]\n",
      "--------------------------------------------------\n",
      "tree boosting MAE : 2927.14765625\n",
      "GridSearch boosting MAE : 3124.90078125\n"
     ]
    }
   ],
   "source": [
    "print('tree model precition and real case\\n')\n",
    "print(np.round(tree_pred))\n",
    "print(np.array(mp_testy).reshape(-1))\n",
    "\n",
    "print('-'*50)\n",
    "\n",
    "print('linear model precition and real case\\n')\n",
    "print(np.round(linear_pred))\n",
    "print(np.array(mp_testy).astype(float).reshape(-1))\n",
    "\n",
    "print('-'*50)\n",
    "print(f'tree boosting MAE : {mae_tree}')\n",
    "print(f'GridSearch boosting MAE : {mae}')"
   ]
  },
  {
   "cell_type": "code",
   "execution_count": 96,
   "id": "edf666a4",
   "metadata": {
    "ExecuteTime": {
     "end_time": "2021-11-23T10:56:53.458966Z",
     "start_time": "2021-11-23T10:56:53.449615Z"
    }
   },
   "outputs": [],
   "source": [
    "pred_df = pd.DataFrame(columns=['number', 'tree_pred','linear_pred', 'real'])\n",
    "pred_df['number'] = [1,2,3,4,5]\n",
    "pred_df['tree_pred'] = tree_pred\n",
    "pred_df['GridSearch_pred'] = pred\n",
    "pred_df['real'] = np.array(mp_testy).astype(float).reshape(-1)"
   ]
  },
  {
   "cell_type": "code",
   "execution_count": 97,
   "id": "ecdda27a",
   "metadata": {
    "ExecuteTime": {
     "end_time": "2021-11-23T10:56:53.769203Z",
     "start_time": "2021-11-23T10:56:53.461842Z"
    }
   },
   "outputs": [
    {
     "data": {
      "image/png": "[encoded data removed]",
      "text/plain": [
       "<Figure size 864x504 with 1 Axes>"
      ]
     },
     "metadata": {
      "needs_background": "light"
     },
     "output_type": "display_data"
    }
   ],
   "source": [
    "fig, ax = plt.subplots(figsize=(12, 7))\n",
    "sns.lineplot(data=pred_df,x='number', y='real', color='r')\n",
    "sns.scatterplot(data=pred_df,x='number', y='real', color='r')\n",
    "sns.lineplot(data=pred_df,x='number', y='tree_pred', color='b')\n",
    "sns.scatterplot(data=pred_df,x='number', y='tree_pred', color='b')\n",
    "sns.lineplot(data=pred_df,x='number', y='GridSearch_pred', color='g')\n",
    "sns.scatterplot(data=pred_df,x='number', y='GridSearch_pred', color='g')\n",
    "\n",
    "plt.legend(labels=['real', 'tree pred', 'GridSearch_pred'])\n",
    "plt.grid()\n",
    "plt.show()"
   ]
  },
  {
   "cell_type": "code",
   "execution_count": null,
   "id": "8db2b079",
   "metadata": {},
   "outputs": [],
   "source": []
  }
 ],
 "metadata": {
  "kernelspec": {
   "display_name": "Python 3",
   "language": "python",
   "name": "python3"
  },
  "language_info": {
   "codemirror_mode": {
    "name": "ipython",
    "version": 3
   },
   "file_extension": ".py",
   "mimetype": "text/x-python",
   "name": "python",
   "nbconvert_exporter": "python",
   "pygments_lexer": "ipython3",
   "version": "3.8.8"
  },
  "toc": {
   "base_numbering": 1,
   "nav_menu": {},
   "number_sections": true,
   "sideBar": true,
   "skip_h1_title": false,
   "title_cell": "Table of Contents",
   "title_sidebar": "Contents",
   "toc_cell": false,
   "toc_position": {},
   "toc_section_display": true,
   "toc_window_display": false
  },
  "varInspector": {
   "cols": {
    "lenName": 16,
    "lenType": 16,
    "lenVar": 40
   },
   "kernels_config": {
    "python": {
     "delete_cmd_postfix": "",
     "delete_cmd_prefix": "del ",
     "library": "var_list.py",
     "varRefreshCmd": "print(var_dic_list())"
    },
    "r": {
     "delete_cmd_postfix": ") ",
     "delete_cmd_prefix": "rm(",
     "library": "var_list.r",
     "varRefreshCmd": "cat(var_dic_list()) "
    }
   },
   "types_to_exclude": [
    "module",
    "function",
    "builtin_function_or_method",
    "instance",
    "_Feature"
   ],
   "window_display": false
  }
 },
 "nbformat": 4,
 "nbformat_minor": 5
}
